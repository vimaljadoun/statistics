{
 "cells": [
  {
   "cell_type": "code",
   "execution_count": 1,
   "id": "8ffb1802",
   "metadata": {},
   "outputs": [
    {
     "name": "stdout",
     "output_type": "stream",
     "text": [
      "Welcome to JupyROOT 6.28/06\n"
     ]
    }
   ],
   "source": [
    "import numpy as np\n",
    "from scipy.stats import norm\n",
    "import ROOT\n",
    "from scipy.stats import poisson\n",
    "from array import array"
   ]
  },
  {
   "cell_type": "code",
   "execution_count": 2,
   "id": "d851c711",
   "metadata": {},
   "outputs": [
    {
     "data": {
      "text/plain": [
       "20001"
      ]
     },
     "execution_count": 2,
     "metadata": {},
     "output_type": "execute_result"
    }
   ],
   "source": [
    "mu_true = np.linspace(0, 20, 20001) # Genarate mu_true \n",
    "len(mu_true)"
   ]
  },
  {
   "cell_type": "code",
   "execution_count": 3,
   "id": "b7f29c0e",
   "metadata": {},
   "outputs": [],
   "source": [
    "bkg = 3 # we fixed the bkg"
   ]
  },
  {
   "cell_type": "code",
   "execution_count": 19,
   "id": "f3884c64",
   "metadata": {},
   "outputs": [],
   "source": [
    "def Possion(n,mu):\n",
    "    print(\"Please write me\")\n",
    "    \n",
    "    ##TODO:\n",
    "    #Likelihood: the poisson probablity for getting measured n for  mean (mu + bkg) : implement this function by hand "
   ]
  },
  {
   "cell_type": "code",
   "execution_count": 20,
   "id": "8b370367",
   "metadata": {},
   "outputs": [
    {
     "data": {
      "text/plain": [
       "array([0, 1, 2, 3, 4, 5, 6, 7, 8, 9])"
      ]
     },
     "execution_count": 20,
     "metadata": {},
     "output_type": "execute_result"
    }
   ],
   "source": [
    "Lower_limit = []\n",
    "Upper_limit = []\n",
    "np.arange(0,10)"
   ]
  },
  {
   "cell_type": "code",
   "execution_count": 22,
   "id": "88acdd7d",
   "metadata": {},
   "outputs": [
    {
     "name": "stdout",
     "output_type": "stream",
     "text": [
      "Please write me\n"
     ]
    },
    {
     "ename": "NameError",
     "evalue": "name 'mu_best' is not defined",
     "output_type": "error",
     "traceback": [
      "\u001b[0;31m---------------------------------------------------------------------------\u001b[0m",
      "\u001b[0;31mNameError\u001b[0m                                 Traceback (most recent call last)",
      "\u001b[0;32m/tmp/ipykernel_42119/2782286153.py\u001b[0m in \u001b[0;36m<module>\u001b[0;34m\u001b[0m\n\u001b[1;32m      3\u001b[0m         \u001b[0mn\u001b[0m \u001b[0;34m=\u001b[0m \u001b[0mnp\u001b[0m\u001b[0;34m.\u001b[0m\u001b[0marange\u001b[0m\u001b[0;34m(\u001b[0m\u001b[0;36m0\u001b[0m\u001b[0;34m,\u001b[0m\u001b[0;36m40\u001b[0m\u001b[0;34m)\u001b[0m\u001b[0;34m\u001b[0m\u001b[0;34m\u001b[0m\u001b[0m\n\u001b[1;32m      4\u001b[0m         \u001b[0;31m#mu_best = #TODO : find the best mu value(mu hat)\u001b[0m\u001b[0;34m\u001b[0m\u001b[0;34m\u001b[0m\u001b[0;34m\u001b[0m\u001b[0m\n\u001b[0;32m----> 5\u001b[0;31m         \u001b[0mR\u001b[0m \u001b[0;34m=\u001b[0m \u001b[0mPossion\u001b[0m\u001b[0;34m(\u001b[0m\u001b[0mn\u001b[0m\u001b[0;34m,\u001b[0m\u001b[0mmu\u001b[0m\u001b[0;34m)\u001b[0m\u001b[0;34m/\u001b[0m\u001b[0mPossion\u001b[0m\u001b[0;34m(\u001b[0m\u001b[0mn\u001b[0m\u001b[0;34m,\u001b[0m\u001b[0mmu_best\u001b[0m\u001b[0;34m)\u001b[0m \u001b[0;31m# Likelihood ratio\u001b[0m\u001b[0;34m\u001b[0m\u001b[0;34m\u001b[0m\u001b[0m\n\u001b[0m\u001b[1;32m      6\u001b[0m         \u001b[0mProb\u001b[0m \u001b[0;34m=\u001b[0m \u001b[0mPossion\u001b[0m\u001b[0;34m(\u001b[0m\u001b[0mn\u001b[0m\u001b[0;34m,\u001b[0m\u001b[0mmu\u001b[0m\u001b[0;34m)\u001b[0m\u001b[0;34m\u001b[0m\u001b[0;34m\u001b[0m\u001b[0m\n\u001b[1;32m      7\u001b[0m         \u001b[0;31m##TODO:\u001b[0m\u001b[0;34m\u001b[0m\u001b[0;34m\u001b[0m\u001b[0;34m\u001b[0m\u001b[0m\n",
      "\u001b[0;31mNameError\u001b[0m: name 'mu_best' is not defined"
     ]
    }
   ],
   "source": [
    "# We want to caculate acceptance region for each value of mu_true\n",
    "for mu in mu_true:\n",
    "        n = np.arange(0,40)\n",
    "        #mu_best = #TODO : find the best mu value(mu hat)\n",
    "        R = Possion(n,mu)/Possion(n,mu_best) # Likelihood ratio\n",
    "        Prob = Possion(n,mu)\n",
    "        ##TODO:\n",
    "        #Sort the probablity \"Prob\" by increasing order of R : ToDO\n",
    "        # Find Endpoins of acceptance region for CL 90% : Cumulative Sum: ADD \"Prob\" on the basis of R untill sum is just satisfy > 0.90\n",
    "        #EndPoints = Define funtion that do that\n",
    "        Lower_limit.append(lower_limit)\n",
    "        Upper_limit.append(upper_limit)"
   ]
  },
  {
   "cell_type": "code",
   "execution_count": null,
   "id": "bc1a19ac",
   "metadata": {},
   "outputs": [],
   "source": [
    "step_upper = np.where(np.diff((np.array(Upper_limit))) != 0)\n",
    "step_lower = np.where(np.diff((np.array(Lower_limit))) != 0)"
   ]
  },
  {
   "cell_type": "code",
   "execution_count": null,
   "id": "15a5788e",
   "metadata": {},
   "outputs": [],
   "source": [
    "mu_lo = mu_true[step_lower]\n",
    "mu_lo = array(\"d\", mu_lo)"
   ]
  },
  {
   "cell_type": "code",
   "execution_count": null,
   "id": "6859fd39",
   "metadata": {},
   "outputs": [],
   "source": [
    "mu_up = mu_true[step_upper]\n",
    "mu_up = array(\"d\", mu_up)"
   ]
  },
  {
   "cell_type": "code",
   "execution_count": null,
   "id": "9f30e920",
   "metadata": {},
   "outputs": [],
   "source": [
    "bin_center1 = np.arange(0.5, 16.5, 1.0)\n",
    "bin_center1 = array(\"d\", bin_center1)"
   ]
  },
  {
   "cell_type": "code",
   "execution_count": null,
   "id": "7ec28025",
   "metadata": {},
   "outputs": [],
   "source": [
    "hlower_limit = ROOT.TGraph(len(mu_lo), bin_center1, mu_lo)\n",
    "hupper_limit = ROOT.TGraph(len(mu_up), bin_center2, mu_up)"
   ]
  },
  {
   "cell_type": "code",
   "execution_count": null,
   "id": "9f9596a2",
   "metadata": {},
   "outputs": [],
   "source": [
    "# Create TMultiGraph\n",
    "TG = ROOT.TMultiGraph()\n",
    "hupper_limit.SetMarkerStyle(3)  # 20 corresponds to a filled circle\n",
    "hlower_limit.SetMarkerStyle(3)\n",
    "hupper_limit.SetMarkerColor(2)\n",
    "hlower_limit.SetMarkerColor(4)\n",
    "\n",
    "TG.Add(hlower_limit, \"AP\")\n",
    "TG.Add(hupper_limit, \"AP\")\n",
    "# Create canvas\n",
    "canvas = ROOT.TCanvas(\"canvas\", \"Confidence belt for Poisson distribution\", 800, 600)\n",
    "\n",
    "# Draw TMultiGraph\n",
    "TG.Draw(\"A\")\n",
    "\n",
    "TG.GetXaxis().SetTitle(\"Measured n\")\n",
    "TG.GetYaxis().SetTitle(\"Signal mean Mu\")\n",
    "\n",
    "TG.GetXaxis().SetRangeUser(0, 15)\n",
    "TG.GetYaxis().SetRangeUser(0, 15)\n",
    "# Show the canvas\n",
    "canvas.SaveAs(\"output.jpg\")"
   ]
  }
 ],
 "metadata": {
  "kernelspec": {
   "display_name": "Python 3 (ipykernel)",
   "language": "python",
   "name": "python3"
  },
  "language_info": {
   "codemirror_mode": {
    "name": "ipython",
    "version": 3
   },
   "file_extension": ".py",
   "mimetype": "text/x-python",
   "name": "python",
   "nbconvert_exporter": "python",
   "pygments_lexer": "ipython3",
   "version": "3.11.4"
  }
 },
 "nbformat": 4,
 "nbformat_minor": 5
}
