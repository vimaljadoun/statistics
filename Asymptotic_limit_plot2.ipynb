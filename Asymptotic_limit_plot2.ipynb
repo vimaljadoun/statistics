{
 "cells": [
  {
   "cell_type": "code",
   "execution_count": 1,
   "id": "1ee70e1e",
   "metadata": {},
   "outputs": [
    {
     "name": "stdout",
     "output_type": "stream",
     "text": [
      "Welcome to JupyROOT 6.28/06\n"
     ]
    }
   ],
   "source": [
    "import numpy as np\n",
    "import ROOT\n",
    "from scipy.stats import norm\n",
    "from array import array"
   ]
  },
  {
   "cell_type": "code",
   "execution_count": 2,
   "id": "8f11e763",
   "metadata": {},
   "outputs": [],
   "source": [
    "s = 10\n",
    "tau = 1"
   ]
  },
  {
   "cell_type": "code",
   "execution_count": 3,
   "id": "b8a3591b",
   "metadata": {},
   "outputs": [],
   "source": [
    "mu = 0"
   ]
  },
  {
   "cell_type": "code",
   "execution_count": 4,
   "id": "35921db4",
   "metadata": {},
   "outputs": [],
   "source": [
    "samplePoints = 1000000"
   ]
  },
  {
   "cell_type": "code",
   "execution_count": 5,
   "id": "e4b2e8da",
   "metadata": {},
   "outputs": [],
   "source": [
    "def likelihood_fn(n, m, tau, mu, s, b):\n",
    "    mu_cap = (n - m/tau)/s\n",
    "    b_cap = m/tau\n",
    "    b_cap2 = (((n + m - (1 + tau)*mu*s)**2 + 4*(1 + tau)*m*mu*s)/(4*(1 + tau)**2))**0.5 + (n + m - (1 + tau)*mu*s)/(2*(1+tau)) \n",
    "    ln =  ((mu*s + b_cap2)**n)*((tau*b_cap2)**m)*np.exp(-(mu*s + b_cap2))*np.exp(-tau*b_cap2)\n",
    "    ld =  ((mu_cap*s + b_cap)**n)*((tau*b_cap)**m)*np.exp(-(mu_cap*s + b_cap))*np.exp(-tau*b_cap)\n",
    "    ratio = ln/ld\n",
    "    ratio = -2 * np.log(ratio)\n",
    "    ratio[mu_cap < 0] = 0\n",
    "    q0 = ratio\n",
    "    return q0"
   ]
  },
  {
   "cell_type": "code",
   "execution_count": 6,
   "id": "1854e55b",
   "metadata": {},
   "outputs": [],
   "source": [
    "b_ = np.linspace(1, 100, 99)\n",
    "b_ = b_.astype(int)"
   ]
  },
  {
   "cell_type": "code",
   "execution_count": 7,
   "id": "005585a9",
   "metadata": {},
   "outputs": [],
   "source": [
    "Z_val = []"
   ]
  },
  {
   "cell_type": "code",
   "execution_count": 8,
   "id": "e0343046",
   "metadata": {},
   "outputs": [
    {
     "name": "stdout",
     "output_type": "stream",
     "text": [
      "3.956675683651406\n",
      "3.211160665269332\n",
      "2.9343937048638695\n",
      "2.840945490239163\n",
      "2.835597857130166\n",
      "2.8630381790452692\n",
      "2.894965670986481\n",
      "2.9203842851527497\n",
      "2.947649387778494\n",
      "2.9628551143920125\n",
      "2.97456948335946\n",
      "2.9792021994909206\n",
      "2.9995260500211924\n",
      "2.9988507775701008\n",
      "2.9959402924065808\n",
      "3.0031507943459586\n",
      "3.0049780683360408\n",
      "2.984545456825957\n",
      "2.9817563408422227\n",
      "2.980689751296126\n",
      "2.9959402924065808\n",
      "3.002013819615216\n",
      "2.989537662761519\n",
      "2.9785666900432695\n",
      "2.9875753151787263\n",
      "2.9981768698106848\n",
      "3.003834847228122\n",
      "2.996833125165796\n",
      "2.9959402924065808\n",
      "2.9999769927034015\n",
      "2.9984013544574606\n",
      "2.9979525361504673\n",
      "3.0013334929744957\n",
      "2.9921721647458743\n",
      "2.991291688809235\n",
      "2.9995260500211924\n",
      "2.984760968680633\n",
      "2.9899753075388333\n",
      "2.990852318970307\n",
      "2.9823979264997504\n",
      "2.9948275993578\n",
      "2.992392646625888\n",
      "2.984545456825957\n",
      "2.991951828226196\n",
      "2.989756413570584\n",
      "2.9966096929421258\n",
      "2.9877927863968443\n",
      "2.985840612497471\n",
      "3.0070458167639784\n",
      "2.991291688809235\n",
      "3.001107025793357\n"
     ]
    },
    {
     "name": "stderr",
     "output_type": "stream",
     "text": [
      "/tmp/ipykernel_1866/1335144531.py:5: RuntimeWarning: overflow encountered in multiply\n",
      "  ln =  ((mu*s + b_cap2)**n)*((tau*b_cap2)**m)*np.exp(-(mu*s + b_cap2))*np.exp(-tau*b_cap2)\n",
      "/tmp/ipykernel_1866/1335144531.py:6: RuntimeWarning: overflow encountered in multiply\n",
      "  ld =  ((mu_cap*s + b_cap)**n)*((tau*b_cap)**m)*np.exp(-(mu_cap*s + b_cap))*np.exp(-tau*b_cap)\n",
      "/tmp/ipykernel_1866/1335144531.py:7: RuntimeWarning: invalid value encountered in divide\n",
      "  ratio = ln/ld\n"
     ]
    },
    {
     "name": "stdout",
     "output_type": "stream",
     "text": [
      "3.004291664590704\n",
      "2.9977283532625902\n",
      "3.0061252303571866\n",
      "2.9966096929421258\n",
      "3.0008807124266403\n",
      "2.99705670709752\n",
      "2.9981768698106848\n"
     ]
    },
    {
     "name": "stderr",
     "output_type": "stream",
     "text": [
      "/tmp/ipykernel_1866/1335144531.py:8: RuntimeWarning: divide by zero encountered in log\n",
      "  ratio = -2 * np.log(ratio)\n"
     ]
    },
    {
     "name": "stdout",
     "output_type": "stream",
     "text": [
      "2.9975043209332974\n",
      "2.992392646625888\n",
      "3.0033786558532864\n",
      "2.992834047278085\n",
      "2.9990757164667476\n",
      "3.002468143842906\n",
      "2.993718601852383\n",
      "2.9875753151787263\n",
      "2.9932760318091294\n",
      "3.0070458167639784\n",
      "3.0022409042673086\n",
      "2.9899753075388333\n",
      "3.0192515939919637\n",
      "3.021651260590743\n",
      "3.021410509649941\n",
      "3.00843149259758\n",
      "3.029449326846692\n",
      "3.055347356640063\n",
      "3.049267657443553\n",
      "3.063177660190059\n",
      "3.1060572559770963\n",
      "3.1098221866419493\n",
      "3.14834104243722\n",
      "3.1801477085928296\n",
      "3.2384051057063377\n",
      "3.2500123421881915\n",
      "3.28772624127333\n",
      "3.3849161526615212\n",
      "3.4192240241628773\n",
      "3.476502232079636\n"
     ]
    },
    {
     "name": "stderr",
     "output_type": "stream",
     "text": [
      "/tmp/ipykernel_1866/1335144531.py:6: RuntimeWarning: overflow encountered in power\n",
      "  ld =  ((mu_cap*s + b_cap)**n)*((tau*b_cap)**m)*np.exp(-(mu_cap*s + b_cap))*np.exp(-tau*b_cap)\n"
     ]
    },
    {
     "name": "stdout",
     "output_type": "stream",
     "text": [
      "3.5160612054258857\n",
      "3.6153000069246914\n",
      "3.6813524899158914\n",
      "3.7400276682884126\n",
      "3.7540501895515996\n",
      "3.9326915370962303\n"
     ]
    },
    {
     "name": "stderr",
     "output_type": "stream",
     "text": [
      "/tmp/ipykernel_1866/1335144531.py:5: RuntimeWarning: overflow encountered in power\n",
      "  ln =  ((mu*s + b_cap2)**n)*((tau*b_cap2)**m)*np.exp(-(mu*s + b_cap2))*np.exp(-tau*b_cap2)\n"
     ]
    },
    {
     "name": "stdout",
     "output_type": "stream",
     "text": [
      "4.06515767544233\n",
      "3.9695781159105588\n",
      "4.144874411979401\n",
      "4.205939313612622\n",
      "4.314451021808444\n"
     ]
    }
   ],
   "source": [
    "for b in b_:\n",
    "    En =  b\n",
    "    Em = tau* b\n",
    "    n = np.random.poisson(En, samplePoints)\n",
    "    m = np.random.poisson(Em, samplePoints)\n",
    "    q0_0 = likelihood_fn(n, m, tau, mu, s, b)\n",
    "    q = 9\n",
    "    p_val = np.size(q0_0[q0_0 >= q])/np.size(q0_0)\n",
    "    Z_val.append(norm.ppf(1-p_val))\n",
    "    print(norm.ppf(1-p_val))"
   ]
  },
  {
   "cell_type": "code",
   "execution_count": 9,
   "id": "e2be9198",
   "metadata": {},
   "outputs": [
    {
     "data": {
      "text/plain": [
       "list"
      ]
     },
     "execution_count": 9,
     "metadata": {},
     "output_type": "execute_result"
    }
   ],
   "source": [
    "type(Z_val)"
   ]
  },
  {
   "cell_type": "code",
   "execution_count": 10,
   "id": "2dfb5298",
   "metadata": {},
   "outputs": [],
   "source": [
    "b_ = array('d', b_)\n",
    "Z_val = array('d', Z_val)"
   ]
  },
  {
   "cell_type": "code",
   "execution_count": 11,
   "id": "844e99df",
   "metadata": {},
   "outputs": [
    {
     "data": {
      "text/plain": [
       "array.array"
      ]
     },
     "execution_count": 11,
     "metadata": {},
     "output_type": "execute_result"
    }
   ],
   "source": [
    "type(b_)\n",
    "type(Z_val)"
   ]
  },
  {
   "cell_type": "code",
   "execution_count": 12,
   "id": "4c598d50",
   "metadata": {
    "scrolled": true
   },
   "outputs": [
    {
     "data": {
      "image/png": "[encoded data removed]",
      "text/plain": [
       "<IPython.core.display.Image object>"
      ]
     },
     "metadata": {},
     "output_type": "display_data"
    }
   ],
   "source": [
    "gZ = ROOT.TGraph(len(b_), b_, Z_val)\n",
    "canvas = ROOT.TCanvas(\"canvas\", \"1D Histogram\", 800, 600)\n",
    "#axis = ROOT.TAxis(gZ.GetXaxis())\n",
    "#axis.SetLimits(0.,5.)\n",
    "gZ.GetHistogram().SetMaximum(5)   \n",
    "gZ.GetHistogram().SetMinimum(1)    \n",
    "\n",
    "gZ.Draw('A*')\n",
    "canvas.Draw()"
   ]
  },
  {
   "cell_type": "code",
   "execution_count": 76,
   "id": "e50b2a6d",
   "metadata": {},
   "outputs": [
    {
     "data": {
      "text/plain": [
       "75"
      ]
     },
     "execution_count": 76,
     "metadata": {},
     "output_type": "execute_result"
    }
   ],
   "source": [
    "len(b_)"
   ]
  },
  {
   "cell_type": "code",
   "execution_count": null,
   "id": "48a5711e",
   "metadata": {},
   "outputs": [],
   "source": []
  }
 ],
 "metadata": {
  "kernelspec": {
   "display_name": "Python 3 (ipykernel)",
   "language": "python",
   "name": "python3"
  },
  "language_info": {
   "codemirror_mode": {
    "name": "ipython",
    "version": 3
   },
   "file_extension": ".py",
   "mimetype": "text/x-python",
   "name": "python",
   "nbconvert_exporter": "python",
   "pygments_lexer": "ipython3",
   "version": "3.9.18"
  }
 },
 "nbformat": 4,
 "nbformat_minor": 5
}
